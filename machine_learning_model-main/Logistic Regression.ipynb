{
 "cells": [
  {
   "cell_type": "code",
   "execution_count": 1,
   "id": "85b64f92-d1d4-49e7-819f-37a9199ba962",
   "metadata": {},
   "outputs": [],
   "source": [
    "import numpy as np\n",
    "import matplotlib.pyplot as plt\n",
    "from pylab import *\n",
    "import copy\n",
    "import math\n",
    "import seaborn as sns\n",
    "%matplotlib inline"
   ]
  },
  {
   "cell_type": "markdown",
   "id": "0ee1662e-13c3-4a68-93dc-7beb83eaac21",
   "metadata": {},
   "source": [
    "### 1. Problem Statement\n",
    "Suppose that you are the administrator of a university department and you want to determine each applicant’s chance of admission based on their results on two exams. \n",
    "* You have historical data from previous applicants that you can use as a training set for logistic regression. \n",
    "* For each training example, you have the applicant’s scores on two exams and the admissions decision. \n",
    "* Your task is to build a classification model that estimates an applicant’s probability of admission based on the scores from those two exams. "
   ]
  },
  {
   "cell_type": "markdown",
   "id": "62828b3b-37cd-4e5a-85a8-e28292cc3ed8",
   "metadata": {},
   "source": [
    "### 2. X_train and y_train dataset"
   ]
  },
  {
   "cell_type": "code",
   "execution_count": 2,
   "id": "6262b6e5-9e51-4c0d-a275-ddf0646c474f",
   "metadata": {
    "tags": []
   },
   "outputs": [],
   "source": [
    "X_train = np.array([[34.62365962, 78.02469282],\n",
    "       [30.28671077, 43.89499752],\n",
    "       [35.84740877, 72.90219803],\n",
    "       [60.18259939, 86.3085521 ],\n",
    "       [79.03273605, 75.34437644],\n",
    "       [45.08327748, 56.31637178],\n",
    "       [61.10666454, 96.51142588],\n",
    "       [75.02474557, 46.55401354],\n",
    "       [76.0987867 , 87.42056972],\n",
    "       [84.43281996, 43.53339331],\n",
    "       [95.86155507, 38.22527806],\n",
    "       [75.01365839, 30.60326323],\n",
    "       [82.30705337, 76.4819633 ],\n",
    "       [69.36458876, 97.71869196],\n",
    "       [39.53833914, 76.03681085],\n",
    "       [53.97105215, 89.20735014],\n",
    "       [69.07014406, 52.74046973],\n",
    "       [67.94685548, 46.67857411],\n",
    "       [70.66150955, 92.92713789],\n",
    "       [76.97878373, 47.57596365],\n",
    "       [67.37202755, 42.83843832],\n",
    "       [89.67677575, 65.79936593],\n",
    "       [50.53478829, 48.85581153],\n",
    "       [34.21206098, 44.2095286 ],\n",
    "       [77.92409145, 68.97235999],\n",
    "       [62.27101367, 69.95445795],\n",
    "       [80.19018075, 44.82162893],\n",
    "       [93.1143888 , 38.80067034],\n",
    "       [61.83020602, 50.25610789],\n",
    "       [38.7858038 , 64.99568096],\n",
    "       [61.37928945, 72.80788731],\n",
    "       [85.40451939, 57.05198398],\n",
    "       [52.10797973, 63.12762377],\n",
    "       [52.04540477, 69.43286012],\n",
    "       [40.23689374, 71.16774802],\n",
    "       [54.63510555, 52.21388588],\n",
    "       [33.91550011, 98.86943574],\n",
    "       [64.17698887, 80.90806059],\n",
    "       [74.78925296, 41.57341523],\n",
    "       [34.18364003, 75.23772034],\n",
    "       [83.90239366, 56.30804622],\n",
    "       [51.54772027, 46.85629026],\n",
    "       [94.44336777, 65.56892161],\n",
    "       [82.36875376, 40.61825516],\n",
    "       [51.04775177, 45.82270146],\n",
    "       [62.22267576, 52.06099195],\n",
    "       [77.19303493, 70.4582    ],\n",
    "       [97.77159928, 86.72782233],\n",
    "       [62.0730638 , 96.76882412],\n",
    "       [91.5649745 , 88.69629255],\n",
    "       [79.94481794, 74.16311935],\n",
    "       [99.27252693, 60.999031  ],\n",
    "       [90.54671411, 43.39060181],\n",
    "       [34.52451385, 60.39634246],\n",
    "       [50.28649612, 49.80453881],\n",
    "       [49.58667722, 59.80895099],\n",
    "       [97.64563396, 68.86157272],\n",
    "       [32.57720017, 95.59854761],\n",
    "       [74.24869137, 69.82457123],\n",
    "       [71.79646206, 78.45356225],\n",
    "       [75.39561147, 85.75993667],\n",
    "       [35.28611282, 47.02051395],\n",
    "       [56.2538175 , 39.26147251],\n",
    "       [30.05882245, 49.59297387],\n",
    "       [44.66826172, 66.45008615],\n",
    "       [66.56089447, 41.09209808],\n",
    "       [40.45755098, 97.53518549],\n",
    "       [49.07256322, 51.88321182],\n",
    "       [80.27957401, 92.11606081],\n",
    "       [66.74671857, 60.99139403],\n",
    "       [32.72283304, 43.30717306],\n",
    "       [64.03932042, 78.03168802],\n",
    "       [72.34649423, 96.22759297],\n",
    "       [60.45788574, 73.0949981 ],\n",
    "       [58.84095622, 75.85844831],\n",
    "       [99.8278578 , 72.36925193],\n",
    "       [47.26426911, 88.475865  ],\n",
    "       [50.4581598 , 75.80985953],\n",
    "       [60.45555629, 42.50840944],\n",
    "       [82.22666158, 42.71987854],\n",
    "       [88.91389642, 69.8037889 ],\n",
    "       [94.83450672, 45.6943068 ],\n",
    "       [67.31925747, 66.58935318],\n",
    "       [57.23870632, 59.51428198],\n",
    "       [80.366756  , 90.9601479 ],\n",
    "       [68.46852179, 85.5943071 ],\n",
    "       [42.07545454, 78.844786  ],\n",
    "       [75.47770201, 90.424539  ],\n",
    "       [78.63542435, 96.64742717],\n",
    "       [52.34800399, 60.76950526],\n",
    "       [94.09433113, 77.15910509],\n",
    "       [90.44855097, 87.50879176],\n",
    "       [55.48216114, 35.57070347],\n",
    "       [74.49269242, 84.84513685],\n",
    "       [89.84580671, 45.35828361],\n",
    "       [83.48916274, 48.3802858 ],\n",
    "       [42.26170081, 87.10385094],\n",
    "       [99.31500881, 68.77540947],\n",
    "       [55.34001756, 64.93193801],\n",
    "       [74.775893  , 89.5298129 ]])"
   ]
  },
  {
   "cell_type": "code",
   "execution_count": 3,
   "id": "701b4fb6-902d-47eb-b85b-3687a96fbd25",
   "metadata": {
    "tags": []
   },
   "outputs": [],
   "source": [
    "y_train = np.array([0., 0., 0., 1., 1., 0., 1., 1., 1., 1., 0., 0., 1., 1., 0., 1., 1.,\n",
    "       0., 1., 1., 0., 1., 0., 0., 1., 1., 1., 0., 0., 0., 1., 1., 0., 1.,\n",
    "       0., 0., 0., 1., 0., 0., 1., 0., 1., 0., 0., 0., 1., 1., 1., 1., 1.,\n",
    "       1., 1., 0., 0., 0., 1., 0., 1., 1., 1., 0., 0., 0., 0., 0., 1., 0.,\n",
    "       1., 1., 0., 1., 1., 1., 1., 1., 1., 1., 0., 0., 1., 1., 1., 1., 1.,\n",
    "       1., 0., 1., 1., 0., 1., 1., 0., 1., 1., 1., 1., 1., 1., 1.])"
   ]
  },
  {
   "cell_type": "code",
   "execution_count": 4,
   "id": "0738dfc4-2d87-4d82-9ab7-48ac8b0517cf",
   "metadata": {},
   "outputs": [
    {
     "name": "stdout",
     "output_type": "stream",
     "text": [
      "We have m = 100 training examples\n"
     ]
    }
   ],
   "source": [
    "# print( 'The shape of X_train is: ' + str(X_train.shape))\n",
    "# print( 'The shape of X_train is: ' + str(y_train.shape))\n",
    "print ('We have m = %d training examples' % (len(y_train)))\n",
    "#%d = placeholder for numeric values  \n",
    "#%s = placeholder for string"
   ]
  },
  {
   "cell_type": "markdown",
   "id": "6da77225-4d25-4c12-868d-5550fe76f84e",
   "metadata": {},
   "source": [
    "### 3.Visualize your data"
   ]
  },
  {
   "cell_type": "code",
   "execution_count": 5,
   "id": "84e69cdc-0eb4-442f-979f-f1e9e095c693",
   "metadata": {},
   "outputs": [
    {
     "name": "stderr",
     "output_type": "stream",
     "text": [
      "c:\\users\\user\\lib\\site-packages\\seaborn\\_decorators.py:36: FutureWarning: Pass the following variables as keyword args: x, y. From version 0.12, the only valid positional argument will be `data`, and passing other arguments without an explicit keyword will result in an error or misinterpretation.\n",
      "  warnings.warn(\n"
     ]
    },
    {
     "data": {
      "image/png": "[encoded data removed]",
      "text/plain": [
       "<Figure size 720x432 with 1 Axes>"
      ]
     },
     "metadata": {
      "needs_background": "light"
     },
     "output_type": "display_data"
    }
   ],
   "source": [
    "from pylab import *\n",
    "fig,ax = plt.subplots(1,1,figsize = (10,6))\n",
    "# palette = colour of dot,  s = dot size\n",
    "sns.scatterplot(X_train[:,0], X_train[:,1], marker = \".\", palette=['blue','red'], hue=y_train,s= 400)\n",
    "\n",
    "# Set the y-axis label\n",
    "plt.ylabel('Exam 2 score') \n",
    "# Set the x-axis label\n",
    "plt.xlabel('Exam 1 score') \n",
    "\n",
    "custom = [Line2D([], [], marker='.', color='b', linestyle='None'),\n",
    "          Line2D([], [], marker='.', color='r', linestyle='None')]\n",
    "plt.legend(custom, ['Admitted', 'Not admitted'],loc=\"upper right\")\n",
    "plt.show()"
   ]
  },
  {
   "cell_type": "markdown",
   "id": "cbf5e3b0-6395-4e58-918b-fb79839e851b",
   "metadata": {},
   "source": [
    "### Part A: Non-Regularized Logistic Regression"
   ]
  },
  {
   "cell_type": "markdown",
   "id": "2eba6b72-0557-47c4-ab10-bb18f87e7540",
   "metadata": {
    "tags": []
   },
   "source": [
    "### 4.1  Sigmoid function\n",
    "\n",
    "$g(z) = \\frac{1}{1+e^{-z}}$"
   ]
  },
  {
   "cell_type": "code",
   "execution_count": 6,
   "id": "4b8239c3-6616-4c2d-88b3-1b63cc5dda14",
   "metadata": {},
   "outputs": [],
   "source": [
    "def sigmoid(z):\n",
    "    g = 1/(1+np.exp(-z))\n",
    "    return g"
   ]
  },
  {
   "cell_type": "markdown",
   "id": "eeb890ae-dd9f-4a90-8d18-f7ed33213fdb",
   "metadata": {
    "tags": []
   },
   "source": [
    "### 4.2 Cost function \n",
    "\n",
    "loss function for logistic regression:\n",
    "$$ J(\\mathbf{w},b) = \\frac{1}{m}\\sum_{i=0}^{m-1} \\left[ loss(f_{\\mathbf{w},b}(\\mathbf{x}^{(i)}), y^{(i)}) \\right] \\tag{1}$$\n",
    "* where\n",
    "$$loss(f_{\\mathbf{w},b}(\\mathbf{x}^{(i)}), y^{(i)}) = -y^{(i)} \\log\\left(f_{\\mathbf{w},b}\\left( \\mathbf{x}^{(i)} \\right) \\right) - \\left( 1 - y^{(i)}\\right) \\log \\left( 1 - f_{\\mathbf{w},b}\\left( \\mathbf{x}^{(i)} \\right) \\right) \\tag{2}$$\n",
    "\n",
    "\n",
    "*  where m is the number of training examples in the data set and:\n",
    "$$\n",
    "\\begin{align}\n",
    "f_{\\mathbf{w},b}(\\mathbf{x^{(i)}}) &= g(z^{(i)}) \\\\\n",
    "g(z^{(i)}) &= \\frac{1}{1+e^{-z^{(i)}}}\\\\\n",
    "z^{(i)} &= \\mathbf{w} \\cdot \\mathbf{x}^{(i)}+ b\\\\\n",
    "*Therefore:\n",
    "f_{\\mathbf{w},b}(\\mathbf{x^{(i)}}) &= \\frac{1}{1+e^{-(w_0x^{(i)}_0 + ... + w_{n-1}x^{(i)}_{n-1} + b)}}\\\\\n",
    "\\end{align}\n",
    "$$\n",
    "\n",
    "\n"
   ]
  },
  {
   "cell_type": "code",
   "execution_count": 7,
   "id": "621296a3-6edb-4eab-9eef-1089889e3922",
   "metadata": {
    "tags": []
   },
   "outputs": [],
   "source": [
    "def compute_cost(X, y, w, b, lambda_ = 1):\n",
    "    total_cost = 0\n",
    "    m, n = X.shape #100,2\n",
    "    \n",
    "    loss_sum = 0 \n",
    "    for i in range(m):   #100\n",
    "        \n",
    "        # First calculate z_wb = w[0]*X[i][0]+...+w[n-1]*X[i][n-1]+b\n",
    "        z_wb = 0\n",
    "        for j in range(n):  #2\n",
    "            z_wb_ij = X[i,j]*w[j]\n",
    "            z_wb += z_wb_ij\n",
    "        z_wb+=b\n",
    "        f_wb = sigmoid(z_wb)\n",
    "        loss = - y[i] * np.log(f_wb) - (1 - y[i]) * np.log(1 - f_wb)\n",
    "        loss_sum += loss\n",
    "        \n",
    "        total_cost = (1 / m) * loss_sum\n",
    "        \n",
    "    return total_cost"
   ]
  },
  {
   "cell_type": "code",
   "execution_count": 8,
   "id": "169b797c-6cc1-40a7-a953-1b9b1feed4e3",
   "metadata": {
    "tags": []
   },
   "outputs": [
    {
     "name": "stdout",
     "output_type": "stream",
     "text": [
      "Cost at initial w (zeros): 0.693\n"
     ]
    }
   ],
   "source": [
    "m , n = X_train.shape\n",
    "\n",
    "initial_w = np.zeros(n)\n",
    "initial_b = 0.\n",
    "cost = compute_cost (X_train,y_train, initial_w, initial_b)\n",
    "print('Cost at initial w (zeros): {:.3f}'.format(cost))\n"
   ]
  },
  {
   "cell_type": "markdown",
   "id": "53a02539-e7d7-4042-9252-3155e56770db",
   "metadata": {
    "tags": []
   },
   "source": [
    "### 4.3 Gradient descent\n",
    "\n",
    "$$\n",
    "\\frac{\\partial J(\\mathbf{w},b)}{\\partial b}  = \\frac{1}{m} \\sum\\limits_{i = 0}^{m-1} (f_{\\mathbf{w},b}(\\mathbf{x}^{(i)}) - \\mathbf{y}^{(i)}) \\\n",
    "$$\n",
    "$$\n",
    "\\frac{\\partial J(\\mathbf{w},b)}{\\partial w_j}  = \\frac{1}{m} \\sum\\limits_{i = 0}^{m-1} (f_{\\mathbf{w},b}(\\mathbf{x}^{(i)}) - \\mathbf{y}^{(i)})x_{j}^{(i)} \\\n",
    "$$\n",
    "\n",
    "*  $f_{\\mathbf{w},b}(x^{(i)})$ is the model's prediction, while $y^{(i)}$ is the actual label"
   ]
  },
  {
   "cell_type": "code",
   "execution_count": 9,
   "id": "26d45bc5-64bd-4f22-b3a4-1116a3221243",
   "metadata": {},
   "outputs": [],
   "source": [
    "def compute_gradient(X, y, w, b, lambda_=None):\n",
    "    m, n = X.shape\n",
    "    dj_dw = np.zeros(w.shape)\n",
    "    dj_db = 0\n",
    "    \n",
    "    for i in range(m):\n",
    "        z_wb = 0\n",
    "        for j in range(n):\n",
    "            z_wb_ij = X[i,j] * w[j]\n",
    "            z_wb += z_wb_ij\n",
    "        z_wb += b\n",
    "        f_wb = sigmoid(z_wb)\n",
    "        \n",
    "        dj_db_i = f_wb - y[i]\n",
    "        dj_db += dj_db_i\n",
    "        \n",
    "        for j in range(n):\n",
    "            dj_dw_ij = (f_wb - y[i]) * X[i][j]\n",
    "            dj_dw[j] += dj_dw_ij\n",
    "    dj_db = dj_db / m\n",
    "    dj_dw = dj_dw / m\n",
    "    \n",
    "    return dj_db, dj_dw"
   ]
  },
  {
   "cell_type": "code",
   "execution_count": 10,
   "id": "60a60b0c-80ad-44c3-8b5f-2ce811c35130",
   "metadata": {},
   "outputs": [
    {
     "name": "stdout",
     "output_type": "stream",
     "text": [
      "dj_db at initial w (zeros):-0.1\n",
      "dj_dw at initial w (zeros):[-12.0092165893, -11.262842205499998]\n"
     ]
    }
   ],
   "source": [
    "initial_w = np.zeros(n)\n",
    "initial_b = 0\n",
    "\n",
    "dj_db, dj_dw = compute_gradient(X_train, y_train, initial_w, initial_b)\n",
    "print(f'dj_db at initial w (zeros):{dj_db}')\n",
    "print(f'dj_dw at initial w (zeros):{dj_dw.tolist()}' )"
   ]
  },
  {
   "cell_type": "markdown",
   "id": "604929c9-1024-410a-a5d0-f871d3677180",
   "metadata": {},
   "source": [
    "### 4.4 Learning parameters using gradient descent\n",
    "\n",
    "$$\\begin{align*}\n",
    "&\\text{repeat until convergence:} \\; \\lbrace \\\\\n",
    "&  \\; \\; \\;w_j = w_j -  \\alpha \\frac{\\partial J(\\mathbf{w},b)}{\\partial w_j} \\tag{1}  \\; & \\text{for j := 0..n-1} \\\\ \n",
    "&  \\; \\; \\;  \\; \\;b = b -  \\alpha \\frac{\\partial J(\\mathbf{w},b)}{\\partial b} \\\\\n",
    "&\\rbrace\n",
    "\\end{align*}$$"
   ]
  },
  {
   "cell_type": "code",
   "execution_count": 11,
   "id": "545e5f93-dc61-4890-b5d3-76ac8ad7c0ff",
   "metadata": {},
   "outputs": [],
   "source": [
    "def gradient_descent(X, y, w_in, b_in, cost_function, gradient_function, alpha, num_iters, lambda_):\n",
    "    m = len(X)\n",
    "    \n",
    "    J_history = []\n",
    "    w_history = []\n",
    "    \n",
    "    for i in range(num_iters):\n",
    "        dj_db, dj_dw = gradient_function(X, y, w_in, b_in, lambda_) \n",
    "        \n",
    "        w_in = w_in - alpha * dj_dw\n",
    "        b_in = b_in - alpha * dj_db\n",
    "        \n",
    "        if i<100000:\n",
    "            cost = cost_function(X, y, w_in, b_in, lambda_)\n",
    "            J_history.append(cost)\n",
    "            \n",
    "        if i % math.ceil(num_iters/10) == 0 or i == (num_iters - 1):\n",
    "            w_history.append(w_in)\n",
    "            print(f\"Iteration {i:4}: Cost {float(J_history[-1]):8.2f} \")\n",
    "    return w_in, b_in, J_history, w_history"
   ]
  },
  {
   "cell_type": "code",
   "execution_count": 12,
   "id": "55dc51b8-32af-4110-a897-54d334040e39",
   "metadata": {},
   "outputs": [
    {
     "name": "stdout",
     "output_type": "stream",
     "text": [
      "Iteration    0: Cost     4.70 \n",
      "Iteration  100: Cost     1.07 \n",
      "Iteration  200: Cost     0.34 \n",
      "Iteration  300: Cost     0.31 \n",
      "Iteration  400: Cost     0.31 \n",
      "Iteration  500: Cost     0.31 \n",
      "Iteration  600: Cost     0.31 \n",
      "Iteration  700: Cost     0.31 \n",
      "Iteration  800: Cost     0.31 \n",
      "Iteration  900: Cost     0.31 \n",
      "Iteration  999: Cost     0.31 \n"
     ]
    }
   ],
   "source": [
    "np.random.seed(1)\n",
    "initial_w = 0.01 * (np.random.rand(2).reshape(-1,1) - 0.5)\n",
    "initial_b = -8\n",
    "\n",
    "iterations =1000\n",
    "alpha = 0.00001\n",
    "\n",
    "w,b, J_history,_ = gradient_descent(X_train ,y_train, initial_w, initial_b, \n",
    "                                   compute_cost, compute_gradient, alpha, iterations, 0)\n"
   ]
  },
  {
   "cell_type": "code",
   "execution_count": 74,
   "id": "0893cc32-b3f5-4e8a-8538-77543327ce5a",
   "metadata": {},
   "outputs": [],
   "source": [
    "#Write decision boundary\n",
    "def plot_data(X, y, pos_label=\"y=1\", neg_label=\"y=0\"):\n",
    "    positive = y == 1\n",
    "    negative = y == 0\n",
    "    \n",
    "    # Plot examples\n",
    "    plt.plot(X[positive, 0], X[positive, 1], 'k+', label=pos_label)\n",
    "    plt.plot(X[negative, 0], X[negative, 1], 'yo', label=neg_label)\n",
    "    \n",
    "def plot_decision_boundary(w, b, X, y):\n",
    "    # Credit to dibgerge on Github for this plotting code\n",
    "     \n",
    "    plot_data(X[:, 0:2], y)\n",
    "    \n",
    "    if X.shape[1] <= 2:\n",
    "        plot_x = np.array([min(X[:, 0]), max(X[:, 0])])\n",
    "        plot_y = (-1. / w[1]) * (w[0] * plot_x + b)\n",
    "        \n",
    "        plt.plot(plot_x, plot_y, c=\"b\")\n",
    "        \n",
    "    else:\n",
    "        u = np.linspace(-1, 1.5, 50)\n",
    "        v = np.linspace(-1, 1.5, 50)\n",
    "        \n",
    "        z = np.zeros((len(u), len(v)))\n",
    "\n",
    "        # Evaluate z = theta*x over the grid\n",
    "        for i in range(len(u)):\n",
    "            for j in range(len(v)):\n",
    "                z[i,j] = sig(np.dot(map_feature(u[i], v[j]), w) + b)\n",
    "        \n",
    "        # important to transpose z before calling contour       \n",
    "        z = z.T\n",
    "        # Plot z = 0\n",
    "        plt.contour(u,v,z, levels = [0.5], colors=\"g\")"
   ]
  },
  {
   "cell_type": "code",
   "execution_count": 76,
   "id": "982d6a7a-ddc3-4943-880d-8d14abc6c8f7",
   "metadata": {},
   "outputs": [
    {
     "data": {
      "text/plain": [
       "[<matplotlib.lines.Line2D at 0x25c07448b50>]"
      ]
     },
     "execution_count": 76,
     "metadata": {},
     "output_type": "execute_result"
    },
    {
     "data": {
      "image/png": "[encoded data removed]",
      "text/plain": [
       "<Figure size 432x288 with 1 Axes>"
      ]
     },
     "metadata": {
      "needs_background": "light"
     },
     "output_type": "display_data"
    }
   ],
   "source": [
    "plot_decision_boundary(w, b, X_train, y_train)\n",
    "\n",
    "custom = [Line2D([], [], marker='+', color='k', linestyle='None'),\n",
    "          Line2D([], [], marker='.', color='y', linestyle='None')]\n",
    "plt.legend(custom, ['Admitted', 'Not admitted'],loc=\"upper right\")\n",
    "\n",
    "# Set the y-axis label\n",
    "plt.ylabel('Exam 2 score') \n",
    "# Set the x-axis label\n",
    "plt.xlabel('Exam 1 score') \n",
    "\n",
    "\n",
    "# Testing new applicant who got exam 1 score = 40, exam 2 score = 90\n",
    "Testing_X_train = np.array([40])\n",
    "Testing_y_train = np.array([90])\n",
    "plt.plot(Testing_X_train,Testing_y_train,'ro')"
   ]
  },
  {
   "cell_type": "markdown",
   "id": "4d64c446-c8a1-481d-afab-a6247a7ac004",
   "metadata": {},
   "source": [
    "According to above graph, the data with red plotted right side of decision boundary which can determine new applicant pass the university admission based on their results on two exams."
   ]
  }
 ],
 "metadata": {
  "kernelspec": {
   "display_name": "Python 3 (ipykernel)",
   "language": "python",
   "name": "python3"
  },
  "language_info": {
   "codemirror_mode": {
    "name": "ipython",
    "version": 3
   },
   "file_extension": ".py",
   "mimetype": "text/x-python",
   "name": "python",
   "nbconvert_exporter": "python",
   "pygments_lexer": "ipython3",
   "version": "3.9.6"
  }
 },
 "nbformat": 4,
 "nbformat_minor": 5
}

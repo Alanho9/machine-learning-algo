{
 "cells": [
  {
   "cell_type": "markdown",
   "id": "a2df3012-ae34-4173-959d-21720f336f1f",
   "metadata": {},
   "source": [
    "## Data sources\n",
    "https://www.freecodecamp.org/news/how-to-build-your-first-neural-network-to-predict-house-prices-with-keras-f8db83049159/"
   ]
  },
  {
   "cell_type": "code",
   "execution_count": 1,
   "id": "efa1b4e0-7f8a-496a-b4fb-36ee35a1ad2e",
   "metadata": {},
   "outputs": [
    {
     "name": "stdout",
     "output_type": "stream",
     "text": [
      "Requirement already satisfied: pandas in c:\\python-3105\\lib\\site-packages (1.5.1)\n",
      "Requirement already satisfied: pytz>=2020.1 in c:\\python-3105\\lib\\site-packages (from pandas) (2022.5)\n",
      "Requirement already satisfied: python-dateutil>=2.8.1 in c:\\python-3105\\lib\\site-packages (from pandas) (2.8.2)\n",
      "Requirement already satisfied: numpy>=1.21.0 in c:\\python-3105\\lib\\site-packages (from pandas) (1.23.4)\n",
      "Requirement already satisfied: six>=1.5 in c:\\python-3105\\lib\\site-packages (from python-dateutil>=2.8.1->pandas) (1.16.0)\n",
      "Note: you may need to restart the kernel to use updated packages.\n"
     ]
    }
   ],
   "source": [
    "pip install pandas"
   ]
  },
  {
   "cell_type": "code",
   "execution_count": 2,
   "id": "13054386-976b-42f5-b446-60637b7e86d6",
   "metadata": {},
   "outputs": [],
   "source": [
    "import numpy as np\n",
    "import tensorflow as tf\n",
    "import pandas as pd"
   ]
  },
  {
   "cell_type": "code",
   "execution_count": 3,
   "id": "9ec72331-b0a7-4db6-9605-1a73e90e6a49",
   "metadata": {},
   "outputs": [],
   "source": [
    "df = pd.read_csv('housepricedata.csv')"
   ]
  },
  {
   "cell_type": "code",
   "execution_count": 4,
   "id": "f7c98c7b-fb0f-4758-8949-235c30278d9a",
   "metadata": {},
   "outputs": [
    {
     "data": {
      "text/html": [
       "<div>\n",
       "<style scoped>\n",
       "    .dataframe tbody tr th:only-of-type {\n",
       "        vertical-align: middle;\n",
       "    }\n",
       "\n",
       "    .dataframe tbody tr th {\n",
       "        vertical-align: top;\n",
       "    }\n",
       "\n",
       "    .dataframe thead th {\n",
       "        text-align: right;\n",
       "    }\n",
       "</style>\n",
       "<table border=\"1\" class=\"dataframe\">\n",
       "  <thead>\n",
       "    <tr style=\"text-align: right;\">\n",
       "      <th></th>\n",
       "      <th>LotArea</th>\n",
       "      <th>OverallQual</th>\n",
       "      <th>OverallCond</th>\n",
       "      <th>TotalBsmtSF</th>\n",
       "      <th>FullBath</th>\n",
       "      <th>HalfBath</th>\n",
       "      <th>BedroomAbvGr</th>\n",
       "      <th>TotRmsAbvGrd</th>\n",
       "      <th>Fireplaces</th>\n",
       "      <th>GarageArea</th>\n",
       "      <th>AboveMedianPrice</th>\n",
       "    </tr>\n",
       "  </thead>\n",
       "  <tbody>\n",
       "    <tr>\n",
       "      <th>0</th>\n",
       "      <td>8450</td>\n",
       "      <td>7</td>\n",
       "      <td>5</td>\n",
       "      <td>856</td>\n",
       "      <td>2</td>\n",
       "      <td>1</td>\n",
       "      <td>3</td>\n",
       "      <td>8</td>\n",
       "      <td>0</td>\n",
       "      <td>548</td>\n",
       "      <td>1</td>\n",
       "    </tr>\n",
       "    <tr>\n",
       "      <th>1</th>\n",
       "      <td>9600</td>\n",
       "      <td>6</td>\n",
       "      <td>8</td>\n",
       "      <td>1262</td>\n",
       "      <td>2</td>\n",
       "      <td>0</td>\n",
       "      <td>3</td>\n",
       "      <td>6</td>\n",
       "      <td>1</td>\n",
       "      <td>460</td>\n",
       "      <td>1</td>\n",
       "    </tr>\n",
       "    <tr>\n",
       "      <th>2</th>\n",
       "      <td>11250</td>\n",
       "      <td>7</td>\n",
       "      <td>5</td>\n",
       "      <td>920</td>\n",
       "      <td>2</td>\n",
       "      <td>1</td>\n",
       "      <td>3</td>\n",
       "      <td>6</td>\n",
       "      <td>1</td>\n",
       "      <td>608</td>\n",
       "      <td>1</td>\n",
       "    </tr>\n",
       "    <tr>\n",
       "      <th>3</th>\n",
       "      <td>9550</td>\n",
       "      <td>7</td>\n",
       "      <td>5</td>\n",
       "      <td>756</td>\n",
       "      <td>1</td>\n",
       "      <td>0</td>\n",
       "      <td>3</td>\n",
       "      <td>7</td>\n",
       "      <td>1</td>\n",
       "      <td>642</td>\n",
       "      <td>0</td>\n",
       "    </tr>\n",
       "    <tr>\n",
       "      <th>4</th>\n",
       "      <td>14260</td>\n",
       "      <td>8</td>\n",
       "      <td>5</td>\n",
       "      <td>1145</td>\n",
       "      <td>2</td>\n",
       "      <td>1</td>\n",
       "      <td>4</td>\n",
       "      <td>9</td>\n",
       "      <td>1</td>\n",
       "      <td>836</td>\n",
       "      <td>1</td>\n",
       "    </tr>\n",
       "    <tr>\n",
       "      <th>...</th>\n",
       "      <td>...</td>\n",
       "      <td>...</td>\n",
       "      <td>...</td>\n",
       "      <td>...</td>\n",
       "      <td>...</td>\n",
       "      <td>...</td>\n",
       "      <td>...</td>\n",
       "      <td>...</td>\n",
       "      <td>...</td>\n",
       "      <td>...</td>\n",
       "      <td>...</td>\n",
       "    </tr>\n",
       "    <tr>\n",
       "      <th>1455</th>\n",
       "      <td>7917</td>\n",
       "      <td>6</td>\n",
       "      <td>5</td>\n",
       "      <td>953</td>\n",
       "      <td>2</td>\n",
       "      <td>1</td>\n",
       "      <td>3</td>\n",
       "      <td>7</td>\n",
       "      <td>1</td>\n",
       "      <td>460</td>\n",
       "      <td>1</td>\n",
       "    </tr>\n",
       "    <tr>\n",
       "      <th>1456</th>\n",
       "      <td>13175</td>\n",
       "      <td>6</td>\n",
       "      <td>6</td>\n",
       "      <td>1542</td>\n",
       "      <td>2</td>\n",
       "      <td>0</td>\n",
       "      <td>3</td>\n",
       "      <td>7</td>\n",
       "      <td>2</td>\n",
       "      <td>500</td>\n",
       "      <td>1</td>\n",
       "    </tr>\n",
       "    <tr>\n",
       "      <th>1457</th>\n",
       "      <td>9042</td>\n",
       "      <td>7</td>\n",
       "      <td>9</td>\n",
       "      <td>1152</td>\n",
       "      <td>2</td>\n",
       "      <td>0</td>\n",
       "      <td>4</td>\n",
       "      <td>9</td>\n",
       "      <td>2</td>\n",
       "      <td>252</td>\n",
       "      <td>1</td>\n",
       "    </tr>\n",
       "    <tr>\n",
       "      <th>1458</th>\n",
       "      <td>9717</td>\n",
       "      <td>5</td>\n",
       "      <td>6</td>\n",
       "      <td>1078</td>\n",
       "      <td>1</td>\n",
       "      <td>0</td>\n",
       "      <td>2</td>\n",
       "      <td>5</td>\n",
       "      <td>0</td>\n",
       "      <td>240</td>\n",
       "      <td>0</td>\n",
       "    </tr>\n",
       "    <tr>\n",
       "      <th>1459</th>\n",
       "      <td>9937</td>\n",
       "      <td>5</td>\n",
       "      <td>6</td>\n",
       "      <td>1256</td>\n",
       "      <td>1</td>\n",
       "      <td>1</td>\n",
       "      <td>3</td>\n",
       "      <td>6</td>\n",
       "      <td>0</td>\n",
       "      <td>276</td>\n",
       "      <td>0</td>\n",
       "    </tr>\n",
       "  </tbody>\n",
       "</table>\n",
       "<p>1460 rows × 11 columns</p>\n",
       "</div>"
      ],
      "text/plain": [
       "      LotArea  OverallQual  OverallCond  TotalBsmtSF  FullBath  HalfBath  \\\n",
       "0        8450            7            5          856         2         1   \n",
       "1        9600            6            8         1262         2         0   \n",
       "2       11250            7            5          920         2         1   \n",
       "3        9550            7            5          756         1         0   \n",
       "4       14260            8            5         1145         2         1   \n",
       "...       ...          ...          ...          ...       ...       ...   \n",
       "1455     7917            6            5          953         2         1   \n",
       "1456    13175            6            6         1542         2         0   \n",
       "1457     9042            7            9         1152         2         0   \n",
       "1458     9717            5            6         1078         1         0   \n",
       "1459     9937            5            6         1256         1         1   \n",
       "\n",
       "      BedroomAbvGr  TotRmsAbvGrd  Fireplaces  GarageArea  AboveMedianPrice  \n",
       "0                3             8           0         548                 1  \n",
       "1                3             6           1         460                 1  \n",
       "2                3             6           1         608                 1  \n",
       "3                3             7           1         642                 0  \n",
       "4                4             9           1         836                 1  \n",
       "...            ...           ...         ...         ...               ...  \n",
       "1455             3             7           1         460                 1  \n",
       "1456             3             7           2         500                 1  \n",
       "1457             4             9           2         252                 1  \n",
       "1458             2             5           0         240                 0  \n",
       "1459             3             6           0         276                 0  \n",
       "\n",
       "[1460 rows x 11 columns]"
      ]
     },
     "execution_count": 4,
     "metadata": {},
     "output_type": "execute_result"
    }
   ],
   "source": [
    "df"
   ]
  },
  {
   "cell_type": "markdown",
   "id": "c06dbca5-8035-4e04-ace5-e231543d29e8",
   "metadata": {},
   "source": [
    "## DataSet\n",
    "#### X features and y output"
   ]
  },
  {
   "cell_type": "code",
   "execution_count": 5,
   "id": "064051e2-64d9-4774-8140-eac053c942d7",
   "metadata": {},
   "outputs": [
    {
     "name": "stdout",
     "output_type": "stream",
     "text": [
      "[[ 8450     7     5 ...     8     0   548]\n",
      " [ 9600     6     8 ...     6     1   460]\n",
      " [11250     7     5 ...     6     1   608]\n",
      " ...\n",
      " [ 9042     7     9 ...     9     2   252]\n",
      " [ 9717     5     6 ...     5     0   240]\n",
      " [ 9937     5     6 ...     6     0   276]]\n",
      "[1 1 1 ... 1 0 0]\n"
     ]
    }
   ],
   "source": [
    "X = df.values[:,:-1]\n",
    "Y = df.values[:,-1]\n",
    "print(X)\n",
    "print(Y)"
   ]
  },
  {
   "cell_type": "markdown",
   "id": "b368b806-afba-42e0-9d4d-c2c3033037ff",
   "metadata": {},
   "source": [
    "### Normalization"
   ]
  },
  {
   "cell_type": "code",
   "execution_count": 6,
   "id": "e4dcf20e-38d3-4036-9afb-79a57f71f785",
   "metadata": {},
   "outputs": [
    {
     "name": "stdout",
     "output_type": "stream",
     "text": [
      "Before normalization:\n",
      "LotArea, Min pre normalization: 215245.00, 1300.00\n",
      "OverallQual, Min pre normalization: 10.00, 1.00\n",
      "OverallCond, Min pre normalization: 9.00, 1.00\n",
      "TotalBsmtSF, Min pre normalization: 6110.00, 0.00\n",
      "FullBath, Min pre normalization: 3.00, 0.00\n",
      "HalfBath, Min pre normalization: 2.00, 0.00\n",
      "BedroomAbvGr, Min pre normalization: 8.00, 0.00\n",
      "TotRmsAbvGrd, Min pre normalization: 14.00, 2.00\n",
      "Fireplaces, Min pre normalization: 3.00, 0.00\n",
      "GarageArea, Min pre normalization: 1418.00, 0.00\n",
      "\n",
      "After normalization:\n",
      "LotArea, Min post normalization: 20.52, -0.92\n",
      "OverallQual, Min post normalization: 2.82, -3.69\n",
      "OverallCond, Min post normalization: 3.08, -4.11\n",
      "TotalBsmtSF, Min post normalization: 11.52, -2.41\n",
      "FullBath, Min post normalization: 2.61, -2.84\n",
      "HalfBath, Min post normalization: 3.22, -0.76\n",
      "BedroomAbvGr, Min post normalization: 6.29, -3.51\n",
      "TotRmsAbvGrd, Min post normalization: 4.60, -2.78\n",
      "Fireplaces, Min post normalization: 3.70, -0.95\n",
      "GarageArea, Min post normalization: 4.42, -2.21\n"
     ]
    }
   ],
   "source": [
    "print(\"Before normalization:\")\n",
    "for i in range(X.shape[1]):\n",
    "    print(f\"{df.columns[i]}, Min pre normalization: {np.max(X[:,i]):0.2f}, {np.min(X[:,i]):0.2f}\")\n",
    "norm_l = tf.keras.layers.Normalization(axis=-1)\n",
    "norm_l.adapt(X)  # learns mean, variance\n",
    "Xn = norm_l(X)\n",
    "\n",
    "print(\"\\nAfter normalization:\")\n",
    "for i in range(X.shape[1]):\n",
    "    print(f\"{df.columns[i]}, Min post normalization: {np.max(Xn[:,i]):0.2f}, {np.min(Xn[:,i]):0.2f}\")  #df.columns --> get columns name"
   ]
  },
  {
   "cell_type": "markdown",
   "id": "5cf7db0e-6d2b-4ca1-8e8f-1c48ec1ffd3e",
   "metadata": {},
   "source": [
    "### W and B parameter  \n",
    "column of w = node"
   ]
  },
  {
   "cell_type": "code",
   "execution_count": 7,
   "id": "ac3ed2a7-25d1-40d4-8cbe-27de860f7a8d",
   "metadata": {},
   "outputs": [
    {
     "name": "stdout",
     "output_type": "stream",
     "text": [
      "[[0.6885382  0.39358039 0.69086242 0.53001451]\n",
      " [0.47726293 0.23188304 0.68298484 0.73569625]\n",
      " [0.92143722 0.24921995 0.22551605 0.1250575 ]\n",
      " [0.77709686 0.90523287 0.75811296 0.23139107]]\n"
     ]
    }
   ],
   "source": [
    "#3 layers, layer1 nodes = 4 , layer2 nodes = 4 \n",
    "#  input layers  rand(input,nodes)  10,4\n",
    "#  layers 1      rand(layer1 nodes,layer2 nodes)  4,4\n",
    "#  layers 2      rand(layer2 nodes,output nodes)  4,1\n",
    "W1_tmp = np.random.rand(10,4)\n",
    "b1_tmp = np.random.rand(4)\n",
    "# print(W1_tmp, b1_tmp)\n",
    "\n",
    "W2_tmp = np.random.rand(4,4)\n",
    "b2_tmp = np.random.rand(4)\n",
    "\n",
    "W3_tmp = np.random.rand(4,1)\n",
    "b3_tmp = np.random.rand(1)\n",
    "\n",
    "print(W2_tmp)\n"
   ]
  },
  {
   "cell_type": "markdown",
   "id": "0529b211-5cb9-4220-8bab-6df730e52ae7",
   "metadata": {},
   "source": [
    "## Activation Function"
   ]
  },
  {
   "cell_type": "code",
   "execution_count": 8,
   "id": "29e491f0-07c9-439f-a997-f4a8caec6f6b",
   "metadata": {},
   "outputs": [],
   "source": [
    "#binary  ifx<0 return 0,  ifx>0 return 1\n",
    "def binaryStep(x):\n",
    "    return np.heaviside(x,1)\n",
    "\n",
    "#sigmoid\n",
    "def g(z):\n",
    "    return 1 / (1 + np.exp(-z))\n",
    "\n",
    "#linear\n",
    "def linear(z):\n",
    "    return z\n",
    "\n",
    "#Tanh (nonlinear activation function, outputs between -1 and 1)\n",
    "def tanh(z):\n",
    "    return np.tanh(z)\n",
    "\n",
    "#ReLu --> Return 0 if the input is negative otherwise return the input as it is.\n",
    "def relu(x):\n",
    "    return max(0.0,x)\n",
    "\n",
    "#Leaky ReLU\n",
    "def Leaky_relu(x):\n",
    "    if x>0 :\n",
    "        return x\n",
    "    else :\n",
    "        return 0.01*x"
   ]
  },
  {
   "cell_type": "markdown",
   "id": "779be1b6-66c4-44cd-801d-572c7b32907c",
   "metadata": {
    "tags": []
   },
   "source": [
    "### Numpy Model (Forward Prop in NumPy)"
   ]
  },
  {
   "cell_type": "code",
   "execution_count": 9,
   "id": "a1de060d-8635-48f8-bbe7-d16f36e36680",
   "metadata": {},
   "outputs": [],
   "source": [
    "def my_dense(a_in, W, b):\n",
    "    units = W.shape[1]  #3\n",
    "    a_out = np.zeros(units) #(0,0,0)\n",
    "    for j in range(units):     #for j in range(3):          \n",
    "        w = W[:,j]             # w = W[0:the end,0] --> [-8.93,  0.29, 12.9 ]  \n",
    "                               # w = W[0:the end,1] --> [-0.1,  -7.32, 10.81]\n",
    "        z = np.dot(w, a_in) + b[j]         #(  x(row) * w(column) + .....)+ b\n",
    "        a_out[j] = g(z)               \n",
    "    return(a_out)"
   ]
  },
  {
   "cell_type": "markdown",
   "id": "4211f2c1-45ce-4dc1-8e10-85980d98d88a",
   "metadata": {
    "tags": []
   },
   "source": [
    "### Number of layer"
   ]
  },
  {
   "cell_type": "code",
   "execution_count": 10,
   "id": "4f6f50cb-8c9e-497f-9420-319d3b93a27c",
   "metadata": {},
   "outputs": [],
   "source": [
    "def my_sequential(X, W1, b1, W2, b2, W3, b3):\n",
    "    a1 = my_dense(X,  W1, b1)\n",
    "    a2 = my_dense(a1, W2, b2)\n",
    "    a3 = my_dense(a2, W3, b3)\n",
    "    return(a3)"
   ]
  },
  {
   "cell_type": "markdown",
   "id": "5366f9fe-4b36-49f3-ad7d-1dbc0ae2005f",
   "metadata": {},
   "source": [
    "### Predictions"
   ]
  },
  {
   "cell_type": "code",
   "execution_count": 11,
   "id": "95c28abc-7e8f-417f-ab00-bb458f1d077f",
   "metadata": {},
   "outputs": [],
   "source": [
    "def my_predict(X, W1, b1, W2, b2, W3, b3):\n",
    "    m = X.shape[0]  \n",
    "    p = np.zeros((m,1)) \n",
    "    for i in range(m): \n",
    "        p[i] = my_sequential(X[i], W1, b1, W2, b2, W3, b3)  \n",
    "    return(p)"
   ]
  },
  {
   "cell_type": "code",
   "execution_count": 12,
   "id": "c6194e59-6f63-4a15-9681-3c0cb51b337d",
   "metadata": {},
   "outputs": [],
   "source": [
    "X_tst = np.array([\n",
    "[ 8450,     7,     5,   856,     2,     1,     3,     8,     0,548],\n",
    "[ 9600,     6,     8,  1262,     2,     0,     3,     6,     1,460],\n",
    "[11250,     7,     5,   920,     2,     1,     3,     6,     1,608]\n",
    "])\n",
    "\n",
    "# negative example\n",
    "X_tstn = norm_l(X_tst)  # remember to normalize\n",
    "predictions = my_predict(X_tstn, W1_tmp, b1_tmp, W2_tmp, b2_tmp, W3_tmp, b3_tmp)"
   ]
  },
  {
   "cell_type": "code",
   "execution_count": 13,
   "id": "be97d58a-3eab-4af2-a336-5cab2f5e9951",
   "metadata": {},
   "outputs": [
    {
     "name": "stdout",
     "output_type": "stream",
     "text": [
      "decisions = \n",
      "[[1.]\n",
      " [1.]\n",
      " [1.]]\n"
     ]
    }
   ],
   "source": [
    "yhat = np.zeros_like(predictions)\n",
    "for i in range(len(predictions)): #predictions = X_tst\n",
    "    if predictions[i] >= 0.5:\n",
    "        yhat[i] = 1\n",
    "    else:\n",
    "        yhat[i] = 0\n",
    "print(f\"decisions = \\n{yhat}\")"
   ]
  },
  {
   "cell_type": "code",
   "execution_count": 14,
   "id": "45c1b425-8f62-474b-b950-f9d80c4ece5a",
   "metadata": {},
   "outputs": [
    {
     "name": "stdout",
     "output_type": "stream",
     "text": [
      "[[0.75250087]\n",
      " [0.75491448]\n",
      " [0.75609755]]\n"
     ]
    }
   ],
   "source": [
    "print(predictions)"
   ]
  },
  {
   "cell_type": "code",
   "execution_count": null,
   "id": "40cf7523-4916-445c-9c62-f9ee4e1a2254",
   "metadata": {},
   "outputs": [],
   "source": []
  }
 ],
 "metadata": {
  "kernelspec": {
   "display_name": "Python 3 (ipykernel)",
   "language": "python",
   "name": "python3"
  },
  "language_info": {
   "codemirror_mode": {
    "name": "ipython",
    "version": 3
   },
   "file_extension": ".py",
   "mimetype": "text/x-python",
   "name": "python",
   "nbconvert_exporter": "python",
   "pygments_lexer": "ipython3",
   "version": "3.10.5"
  }
 },
 "nbformat": 4,
 "nbformat_minor": 5
}
